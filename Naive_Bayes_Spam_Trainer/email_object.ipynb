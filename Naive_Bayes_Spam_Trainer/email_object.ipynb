{
 "cells": [
  {
   "cell_type": "code",
   "execution_count": 14,
   "id": "a5a4534c",
   "metadata": {},
   "outputs": [],
   "source": [
    "import email\n",
    "from bs4 import BeautifulSoup\n",
    "\n",
    "class EmailObject:\n",
    "    def __init__(self, filepath, category = None):\n",
    "        self.filepath = filepath\n",
    "        self.category = category\n",
    "        self.mail = email.message_from_binary_file(self.filepath)\n",
    "    def subject(self):\n",
    "        return self.mail.get('Subject')\n",
    "    def body(self):\n",
    "        content_type = part.get_content_type()\n",
    "        body = part.get_payload(decode=True)\n",
    "        if content_type == 'text/html':\n",
    "            return BeautifulSoup(body).text\n",
    "        elif content_type == 'text/plain':\n",
    "            return body\n",
    "        else:\n",
    "            return ''"
   ]
  },
  {
   "cell_type": "code",
   "execution_count": null,
   "id": "84a4fa5a",
   "metadata": {},
   "outputs": [],
   "source": []
  }
 ],
 "metadata": {
  "kernelspec": {
   "display_name": "Python 3 (ipykernel)",
   "language": "python",
   "name": "python3"
  },
  "language_info": {
   "codemirror_mode": {
    "name": "ipython",
    "version": 3
   },
   "file_extension": ".py",
   "mimetype": "text/x-python",
   "name": "python",
   "nbconvert_exporter": "python",
   "pygments_lexer": "ipython3",
   "version": "3.9.12"
  }
 },
 "nbformat": 4,
 "nbformat_minor": 5
}
