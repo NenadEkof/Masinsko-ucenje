{
 "cells": [
  {
   "cell_type": "code",
   "execution_count": 31,
   "id": "379e9841",
   "metadata": {},
   "outputs": [],
   "source": [
    "\n",
    "import io\n",
    "\n",
    "from spam_trainer import SpamTrainer\n",
    "from email_object import EmailObject\n",
    "\n",
    "\n",
    "\n",
    "def label_to_training_data(fold_file):\n",
    "    training_data = []\n",
    "\n",
    "    for line in io.open(fold_file, \"r\"):\n",
    "        label_file = line.rstrip().split(\" \")\n",
    "        training_data.append(label_file)\n",
    "\n",
    "    return SpamTrainer(training_data)\n",
    "\n",
    "\n",
    "\n",
    "trainer = label_to_training_data(\"./tests/fixtures/fold1.label\")\n"
   ]
  },
  {
   "cell_type": "code",
   "execution_count": 32,
   "id": "2856e9ff",
   "metadata": {},
   "outputs": [
    {
     "data": {
      "text/plain": [
       "<spam_trainer.SpamTrainer at 0x1a1113f25b0>"
      ]
     },
     "execution_count": 32,
     "metadata": {},
     "output_type": "execute_result"
    }
   ],
   "source": [
    "trainer"
   ]
  },
  {
   "cell_type": "code",
   "execution_count": null,
   "id": "451a6ee9",
   "metadata": {},
   "outputs": [],
   "source": []
  }
 ],
 "metadata": {
  "kernelspec": {
   "display_name": "Python 3 (ipykernel)",
   "language": "python",
   "name": "python3"
  },
  "language_info": {
   "codemirror_mode": {
    "name": "ipython",
    "version": 3
   },
   "file_extension": ".py",
   "mimetype": "text/x-python",
   "name": "python",
   "nbconvert_exporter": "python",
   "pygments_lexer": "ipython3",
   "version": "3.9.12"
  }
 },
 "nbformat": 4,
 "nbformat_minor": 5
}
