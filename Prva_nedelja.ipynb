{
 "cells": [
  {
   "cell_type": "markdown",
   "id": "e666a293",
   "metadata": {},
   "source": [
    "# Mašinsko učenje - prva nedelja\n"
   ]
  },
  {
   "cell_type": "code",
   "execution_count": 6,
   "id": "0a04f513",
   "metadata": {},
   "outputs": [],
   "source": [
    "%matplotlib inline\n",
    "import matplotlib.pyplot as plt\n",
    "import seaborn as sns\n",
    "import pandas as pd\n",
    "import numpy as np"
   ]
  },
  {
   "cell_type": "markdown",
   "id": "78d64dfc",
   "metadata": {},
   "source": [
    "Radićemo sa NHANES (National Health and Nutrition Examination Survey) bazom podataka, koja prati zdravstveno stanje dece\n",
    "i odraslih u slačajnom uzorku izvučenom iz populacije SAD."
   ]
  },
  {
   "cell_type": "code",
   "execution_count": 2,
   "id": "5129b7ef",
   "metadata": {},
   "outputs": [],
   "source": [
    "df = pd.read_csv(\"nhanes_2015_2016.csv\")"
   ]
  },
  {
   "cell_type": "code",
   "execution_count": 4,
   "id": "533b2ece",
   "metadata": {},
   "outputs": [
    {
     "data": {
      "text/html": [
       "<div>\n",
       "<style scoped>\n",
       "    .dataframe tbody tr th:only-of-type {\n",
       "        vertical-align: middle;\n",
       "    }\n",
       "\n",
       "    .dataframe tbody tr th {\n",
       "        vertical-align: top;\n",
       "    }\n",
       "\n",
       "    .dataframe thead th {\n",
       "        text-align: right;\n",
       "    }\n",
       "</style>\n",
       "<table border=\"1\" class=\"dataframe\">\n",
       "  <thead>\n",
       "    <tr style=\"text-align: right;\">\n",
       "      <th></th>\n",
       "      <th>SEQN</th>\n",
       "      <th>ALQ101</th>\n",
       "      <th>ALQ110</th>\n",
       "      <th>ALQ130</th>\n",
       "      <th>SMQ020</th>\n",
       "      <th>RIAGENDR</th>\n",
       "      <th>RIDAGEYR</th>\n",
       "      <th>RIDRETH1</th>\n",
       "      <th>DMDCITZN</th>\n",
       "      <th>DMDEDUC2</th>\n",
       "      <th>...</th>\n",
       "      <th>BPXSY2</th>\n",
       "      <th>BPXDI2</th>\n",
       "      <th>BMXWT</th>\n",
       "      <th>BMXHT</th>\n",
       "      <th>BMXBMI</th>\n",
       "      <th>BMXLEG</th>\n",
       "      <th>BMXARML</th>\n",
       "      <th>BMXARMC</th>\n",
       "      <th>BMXWAIST</th>\n",
       "      <th>HIQ210</th>\n",
       "    </tr>\n",
       "  </thead>\n",
       "  <tbody>\n",
       "    <tr>\n",
       "      <th>0</th>\n",
       "      <td>83732</td>\n",
       "      <td>1.0</td>\n",
       "      <td>NaN</td>\n",
       "      <td>1.0</td>\n",
       "      <td>1</td>\n",
       "      <td>1</td>\n",
       "      <td>62</td>\n",
       "      <td>3</td>\n",
       "      <td>1.0</td>\n",
       "      <td>5.0</td>\n",
       "      <td>...</td>\n",
       "      <td>124.0</td>\n",
       "      <td>64.0</td>\n",
       "      <td>94.8</td>\n",
       "      <td>184.5</td>\n",
       "      <td>27.8</td>\n",
       "      <td>43.3</td>\n",
       "      <td>43.6</td>\n",
       "      <td>35.9</td>\n",
       "      <td>101.1</td>\n",
       "      <td>2.0</td>\n",
       "    </tr>\n",
       "    <tr>\n",
       "      <th>1</th>\n",
       "      <td>83733</td>\n",
       "      <td>1.0</td>\n",
       "      <td>NaN</td>\n",
       "      <td>6.0</td>\n",
       "      <td>1</td>\n",
       "      <td>1</td>\n",
       "      <td>53</td>\n",
       "      <td>3</td>\n",
       "      <td>2.0</td>\n",
       "      <td>3.0</td>\n",
       "      <td>...</td>\n",
       "      <td>140.0</td>\n",
       "      <td>88.0</td>\n",
       "      <td>90.4</td>\n",
       "      <td>171.4</td>\n",
       "      <td>30.8</td>\n",
       "      <td>38.0</td>\n",
       "      <td>40.0</td>\n",
       "      <td>33.2</td>\n",
       "      <td>107.9</td>\n",
       "      <td>NaN</td>\n",
       "    </tr>\n",
       "    <tr>\n",
       "      <th>2</th>\n",
       "      <td>83734</td>\n",
       "      <td>1.0</td>\n",
       "      <td>NaN</td>\n",
       "      <td>NaN</td>\n",
       "      <td>1</td>\n",
       "      <td>1</td>\n",
       "      <td>78</td>\n",
       "      <td>3</td>\n",
       "      <td>1.0</td>\n",
       "      <td>3.0</td>\n",
       "      <td>...</td>\n",
       "      <td>132.0</td>\n",
       "      <td>44.0</td>\n",
       "      <td>83.4</td>\n",
       "      <td>170.1</td>\n",
       "      <td>28.8</td>\n",
       "      <td>35.6</td>\n",
       "      <td>37.0</td>\n",
       "      <td>31.0</td>\n",
       "      <td>116.5</td>\n",
       "      <td>2.0</td>\n",
       "    </tr>\n",
       "    <tr>\n",
       "      <th>3</th>\n",
       "      <td>83735</td>\n",
       "      <td>2.0</td>\n",
       "      <td>1.0</td>\n",
       "      <td>1.0</td>\n",
       "      <td>2</td>\n",
       "      <td>2</td>\n",
       "      <td>56</td>\n",
       "      <td>3</td>\n",
       "      <td>1.0</td>\n",
       "      <td>5.0</td>\n",
       "      <td>...</td>\n",
       "      <td>134.0</td>\n",
       "      <td>68.0</td>\n",
       "      <td>109.8</td>\n",
       "      <td>160.9</td>\n",
       "      <td>42.4</td>\n",
       "      <td>38.5</td>\n",
       "      <td>37.7</td>\n",
       "      <td>38.3</td>\n",
       "      <td>110.1</td>\n",
       "      <td>2.0</td>\n",
       "    </tr>\n",
       "    <tr>\n",
       "      <th>4</th>\n",
       "      <td>83736</td>\n",
       "      <td>2.0</td>\n",
       "      <td>1.0</td>\n",
       "      <td>1.0</td>\n",
       "      <td>2</td>\n",
       "      <td>2</td>\n",
       "      <td>42</td>\n",
       "      <td>4</td>\n",
       "      <td>1.0</td>\n",
       "      <td>4.0</td>\n",
       "      <td>...</td>\n",
       "      <td>114.0</td>\n",
       "      <td>54.0</td>\n",
       "      <td>55.2</td>\n",
       "      <td>164.9</td>\n",
       "      <td>20.3</td>\n",
       "      <td>37.4</td>\n",
       "      <td>36.0</td>\n",
       "      <td>27.2</td>\n",
       "      <td>80.4</td>\n",
       "      <td>2.0</td>\n",
       "    </tr>\n",
       "  </tbody>\n",
       "</table>\n",
       "<p>5 rows × 28 columns</p>\n",
       "</div>"
      ],
      "text/plain": [
       "    SEQN  ALQ101  ALQ110  ALQ130  SMQ020  RIAGENDR  RIDAGEYR  RIDRETH1  \\\n",
       "0  83732     1.0     NaN     1.0       1         1        62         3   \n",
       "1  83733     1.0     NaN     6.0       1         1        53         3   \n",
       "2  83734     1.0     NaN     NaN       1         1        78         3   \n",
       "3  83735     2.0     1.0     1.0       2         2        56         3   \n",
       "4  83736     2.0     1.0     1.0       2         2        42         4   \n",
       "\n",
       "   DMDCITZN  DMDEDUC2  ...  BPXSY2  BPXDI2  BMXWT  BMXHT  BMXBMI  BMXLEG  \\\n",
       "0       1.0       5.0  ...   124.0    64.0   94.8  184.5    27.8    43.3   \n",
       "1       2.0       3.0  ...   140.0    88.0   90.4  171.4    30.8    38.0   \n",
       "2       1.0       3.0  ...   132.0    44.0   83.4  170.1    28.8    35.6   \n",
       "3       1.0       5.0  ...   134.0    68.0  109.8  160.9    42.4    38.5   \n",
       "4       1.0       4.0  ...   114.0    54.0   55.2  164.9    20.3    37.4   \n",
       "\n",
       "   BMXARML  BMXARMC  BMXWAIST  HIQ210  \n",
       "0     43.6     35.9     101.1     2.0  \n",
       "1     40.0     33.2     107.9     NaN  \n",
       "2     37.0     31.0     116.5     2.0  \n",
       "3     37.7     38.3     110.1     2.0  \n",
       "4     36.0     27.2      80.4     2.0  \n",
       "\n",
       "[5 rows x 28 columns]"
      ]
     },
     "execution_count": 4,
     "metadata": {},
     "output_type": "execute_result"
    }
   ],
   "source": [
    "df.head()"
   ]
  },
  {
   "cell_type": "markdown",
   "id": "af788ae7",
   "metadata": {},
   "source": [
    "DMDEDUC2 je varijabla koja opisuje stpen obrazovanja ispitanika. \n",
    ".value_counts() metod vraća pandas series objekat koji kao index label ima različite vrednosti promenljive, dok sama serija predstavlja frekvencu pojavljivanja pojedinačnih vrednosti."
   ]
  },
  {
   "cell_type": "code",
   "execution_count": 5,
   "id": "c268352b",
   "metadata": {},
   "outputs": [
    {
     "data": {
      "text/plain": [
       "4.0    1621\n",
       "5.0    1366\n",
       "3.0    1186\n",
       "1.0     655\n",
       "2.0     643\n",
       "9.0       3\n",
       "Name: DMDEDUC2, dtype: int64"
      ]
     },
     "execution_count": 5,
     "metadata": {},
     "output_type": "execute_result"
    }
   ],
   "source": [
    "df.DMDEDUC2.value_counts()"
   ]
  },
  {
   "cell_type": "code",
   "execution_count": 9,
   "id": "ddf80f70",
   "metadata": {},
   "outputs": [
    {
     "name": "stdout",
     "output_type": "stream",
     "text": [
      "5474\n",
      "5474\n",
      "(5735, 28)\n"
     ]
    }
   ],
   "source": [
    "print(df.DMDEDUC2.value_counts().sum())\n",
    "print(1621 + 1366 + 1186 + 655 + 643 + 3) \n",
    "print(df.shape)"
   ]
  },
  {
   "cell_type": "code",
   "execution_count": 13,
   "id": "cc83bf13",
   "metadata": {},
   "outputs": [
    {
     "data": {
      "text/plain": [
       "261"
      ]
     },
     "execution_count": 13,
     "metadata": {},
     "output_type": "execute_result"
    }
   ],
   "source": [
    "pd.isnull(df.DMDEDUC2).sum()"
   ]
  },
  {
   "cell_type": "code",
   "execution_count": 18,
   "id": "d1227f19",
   "metadata": {},
   "outputs": [
    {
     "data": {
      "text/plain": [
       "Some college/AA    1621\n",
       "College            1366\n",
       "HS/GED             1186\n",
       "<9                  655\n",
       "9-11                643\n",
       "Don't know            3\n",
       "Name: DMDEDUC2x, dtype: int64"
      ]
     },
     "execution_count": 18,
     "metadata": {},
     "output_type": "execute_result"
    }
   ],
   "source": [
    "df[\"DMDEDUC2x\"] = df.DMDEDUC2.replace({1: \"<9\", 2: \"9-11\", 3: \"HS/GED\", 4: \"Some college/AA\", 5: \"College\", \n",
    "                                       7: \"Refused\", 9: \"Don't know\"})\n",
    "df.DMDEDUC2x.value_counts()"
   ]
  },
  {
   "cell_type": "markdown",
   "id": "69f67b89",
   "metadata": {},
   "source": [
    "Rekodiranje varijable o polu:"
   ]
  },
  {
   "cell_type": "code",
   "execution_count": 15,
   "id": "2f18eb83",
   "metadata": {},
   "outputs": [],
   "source": [
    "df[\"RIAGENDRx\"] = df.RIAGENDR.replace({1: \"Male\", 2: \"Female\"})"
   ]
  },
  {
   "cell_type": "markdown",
   "id": "40a42dca",
   "metadata": {},
   "source": [
    "Relativna frekvencija:"
   ]
  },
  {
   "cell_type": "code",
   "execution_count": 17,
   "id": "5b13dd76",
   "metadata": {},
   "outputs": [
    {
     "data": {
      "text/plain": [
       "Some college/AA    0.296127\n",
       "College            0.249543\n",
       "HS/GED             0.216661\n",
       "<9                 0.119657\n",
       "9-11               0.117464\n",
       "Don't know         0.000548\n",
       "Name: DMDEDUC2x, dtype: float64"
      ]
     },
     "execution_count": 17,
     "metadata": {},
     "output_type": "execute_result"
    }
   ],
   "source": [
    "x = df.DMDEDUC2x.value_counts()  \n",
    "x / x.sum()"
   ]
  },
  {
   "cell_type": "markdown",
   "id": "a0b926bc",
   "metadata": {},
   "source": [
    "Nedostajuće podatke možemo da popunimo .fillna metodom:"
   ]
  },
  {
   "cell_type": "code",
   "execution_count": 22,
   "id": "c9478ef6",
   "metadata": {},
   "outputs": [
    {
     "data": {
      "text/plain": [
       "Some college/AA    0.282650\n",
       "College            0.238187\n",
       "HS/GED             0.206800\n",
       "<9                 0.114211\n",
       "9-11               0.112119\n",
       "Missing            0.045510\n",
       "Don't know         0.000523\n",
       "Name: DMDEDUC2x, dtype: float64"
      ]
     },
     "execution_count": 22,
     "metadata": {},
     "output_type": "execute_result"
    }
   ],
   "source": [
    "df[\"DMDEDUC2x\"] = df.DMDEDUC2x.fillna(\"Missing\")\n",
    "x = df.DMDEDUC2x.value_counts()\n",
    "x / x.sum()"
   ]
  },
  {
   "cell_type": "markdown",
   "id": "65cbb979",
   "metadata": {},
   "source": [
    "Nedostajuće vrednosti možemo i da uklonimo .dropna() metodom. Dalje, describe() metoda daje osnovne statističke\n",
    "karakteristike promenljive:                                                                             "
   ]
  },
  {
   "cell_type": "code",
   "execution_count": 23,
   "id": "f55aae61",
   "metadata": {},
   "outputs": [
    {
     "data": {
      "text/plain": [
       "count    5666.000000\n",
       "mean       81.342676\n",
       "std        21.764409\n",
       "min        32.400000\n",
       "25%        65.900000\n",
       "50%        78.200000\n",
       "75%        92.700000\n",
       "max       198.900000\n",
       "Name: BMXWT, dtype: float64"
      ]
     },
     "execution_count": 23,
     "metadata": {},
     "output_type": "execute_result"
    }
   ],
   "source": [
    "df.BMXWT.dropna().describe()"
   ]
  },
  {
   "cell_type": "markdown",
   "id": "134508b5",
   "metadata": {},
   "source": [
    "Prethodnu komandu možemo i da prođemo ručno, zahtev po zahtev:"
   ]
  },
  {
   "cell_type": "code",
   "execution_count": 25,
   "id": "02d6c945",
   "metadata": {},
   "outputs": [
    {
     "name": "stdout",
     "output_type": "stream",
     "text": [
      "81.34267560889509\n",
      "81.34267560889509\n",
      "78.2\n",
      "78.2\n",
      "92.7\n",
      "92.7\n"
     ]
    }
   ],
   "source": [
    "x = df.BMXWT.dropna()  \n",
    "print(x.mean()) \n",
    "print(np.mean(x)) \n",
    "\n",
    "print(x.median())\n",
    "print(np.percentile(x, 50))  \n",
    "print(np.percentile(x, 75)) \n",
    "print(x.quantile(0.75)) "
   ]
  },
  {
   "cell_type": "markdown",
   "id": "11e61c41",
   "metadata": {},
   "source": [
    "Sledeće što analiziramo su frekvencije za merenje sistolnog krvnog pritiska (BPXSY1). \"BPX\" je prefiks za merenja krvnog pritiska u NHANES-u, \"SY\" označava sistolni krvni pritisak (pritiskanje krvi pri vrhuncu srčanog ciklusa), a \"1\" ukazuje da je ovo prvo od tri merenja sistolnog krvnog pritiska kod ispitanika.\n",
    "\n",
    "Osoba se obično smatra predhipertenzivnom kada joj je sistolni krvni pritisak između 120 i 139, ili dijastolni krvni pritisak između 80 i 89. Razmatrajući samo uslov za sistolni pritisak, možemo izračunati udeo NHANES uzorka koji bi se smatrao predhipertenzivnim."
   ]
  },
  {
   "cell_type": "code",
   "execution_count": 26,
   "id": "a2ab4f3a",
   "metadata": {},
   "outputs": [
    {
     "data": {
      "text/plain": [
       "0.3741935483870968"
      ]
     },
     "execution_count": 26,
     "metadata": {},
     "output_type": "execute_result"
    }
   ],
   "source": [
    "np.mean((df.BPXSY1 >= 120) & (df.BPXSY2 <= 139))"
   ]
  },
  {
   "cell_type": "markdown",
   "id": "4d68fc0b",
   "metadata": {},
   "source": [
    "Dalje računamo procenat ljudi u uzorku koji su predhipertezivnom stanju po dijastolnom krvnom pritisku:"
   ]
  },
  {
   "cell_type": "code",
   "execution_count": 27,
   "id": "146665aa",
   "metadata": {},
   "outputs": [
    {
     "data": {
      "text/plain": [
       "0.14803836094158676"
      ]
     },
     "execution_count": 27,
     "metadata": {},
     "output_type": "execute_result"
    }
   ],
   "source": [
    "np.mean((df.BPXDI1 >= 80) & (df.BPXDI2 <= 89))"
   ]
  },
  {
   "cell_type": "code",
   "execution_count": 29,
   "id": "b1f078a3",
   "metadata": {},
   "outputs": [
    {
     "name": "stdout",
     "output_type": "stream",
     "text": [
      "0.43975588491717527\n"
     ]
    }
   ],
   "source": [
    "a = (df.BPXSY1 >= 120) & (df.BPXSY2 <= 139)\n",
    "b = (df.BPXDI1 >= 80) & (df.BPXDI2 <= 89)\n",
    "print(np.mean(a | b))"
   ]
  },
  {
   "cell_type": "markdown",
   "id": "9356b2b3",
   "metadata": {},
   "source": [
    "\n",
    "Merenja krvnog pritiska utiču na pojavu fenomena nazvanog \"anksioznost belog mantila\", pri kojem može doći do blagog povećanja krvnog pritiska ako ispitanik oseća nervozu prilikom interakcije sa zdravstvenim radnicima. Ovaj efekat obično jenjava ako se krvni pritisak meri nekoliko puta uzastopno. U NHANES-u se i sistolni i dijastolni krvni pritisak mere tri puta za svakog ispitanika (npr. BPXSY2 je drugo merenje sistolnog krvnog pritiska). Možemo izračunati stepen prisustva anksioznosti belog mantila u NHANES podacima posmatrajući srednju razliku između prvih dva merenja sistolnog ili dijastolnog krvnog pritiska."
   ]
  },
  {
   "cell_type": "code",
   "execution_count": 32,
   "id": "845cd43b",
   "metadata": {},
   "outputs": [
    {
     "name": "stdout",
     "output_type": "stream",
     "text": [
      "0.6749860309182343\n",
      "0.3490407897187558\n"
     ]
    }
   ],
   "source": [
    "print(np.mean(df.BPXSY1 - df.BPXSY2))\n",
    "print(np.mean(df.BPXDI1 - df.BPXDI2))"
   ]
  },
  {
   "cell_type": "markdown",
   "id": "cac0c270",
   "metadata": {},
   "source": [
    "## Grafički pregledi\n",
    "Kvantitativne varijable mogu se efikasno sumirati grafički. U nastavku vidimo distribuciju telesne mase (u kilogramima), prikazanu kao histogram."
   ]
  },
  {
   "cell_type": "code",
   "execution_count": 31,
   "id": "e33acb01",
   "metadata": {},
   "outputs": [
    {
     "data": {
      "text/plain": [
       "<AxesSubplot:xlabel='BMXWT', ylabel='Count'>"
      ]
     },
     "execution_count": 31,
     "metadata": {},
     "output_type": "execute_result"
    },
    {
     "data": {
      "image/png": "[encoded data removed]",
      "text/plain": [
       "<Figure size 432x288 with 1 Axes>"
      ]
     },
     "metadata": {
      "needs_background": "light"
     },
     "output_type": "display_data"
    }
   ],
   "source": [
    "sns.histplot(df.BMXWT.dropna())"
   ]
  },
  {
   "cell_type": "markdown",
   "id": "69b3291b",
   "metadata": {},
   "source": [
    "## Stratifikacija\n",
    "Jedan od najefikasnijih načina da se dobiju dodatne informacije iz skupa podataka jeste da ga podelimo na manje, uniformne podskupove i analiziramo svaki od ovih \"slojeva\" zasebno. Zatim možemo formalno ili neformalno uporediti nalaze u različitim slojevima. Kada radimo sa ljudskim ispitanicima, veoma je uobičajeno stratifikovati podaci prema demografskim faktorima kao što su uzrast, pol i rasa.\n",
    "\n",
    "Da bismo ilustrovali ovu tehniku, razmotrimo krvni pritisak, vrednost koja obično raste s godinama. Kako bismo videli ovaj trend u NHANES podacima, možemo podeliti podatke u starosne strate i konstruisati boksove (boxplots) sa bočne strane distribucije sistolnog krvnog pritiska (SBP) unutar svake strate. Pošto je uzrast kvantitativna varijabla, moramo kreirati seriju \"korpi\" sa sličnim vrednostima SBP kako bismo stratifikovali podatke. Svaka kutija na slici predstavlja rezime univarijantnih podataka unutar određene populacione strate (ovde definisane prema uzrastu)."
   ]
  },
  {
   "cell_type": "code",
   "execution_count": 35,
   "id": "aeba5b11",
   "metadata": {},
   "outputs": [
    {
     "data": {
      "text/plain": [
       "<AxesSubplot:xlabel='agegrp', ylabel='BPXSY1'>"
      ]
     },
     "execution_count": 35,
     "metadata": {},
     "output_type": "execute_result"
    },
    {
     "data": {
      "image/png": "[encoded data removed]",
      "text/plain": [
       "<Figure size 864x360 with 1 Axes>"
      ]
     },
     "metadata": {
      "needs_background": "light"
     },
     "output_type": "display_data"
    }
   ],
   "source": [
    "df[\"agegrp\"] = pd.cut(df.RIDAGEYR, [18, 30, 40, 50, 60, 70, 80]) # Create age strata based on these cut points\n",
    "plt.figure(figsize=(12, 5))  # Make the figure wider than default (12cm wide by 5cm tall)\n",
    "sns.boxplot(x=\"agegrp\", y=\"BPXSY1\", data=df)"
   ]
  },
  {
   "cell_type": "markdown",
   "id": "872b1b8a",
   "metadata": {},
   "source": [
    "Takođe je slučaj da se krvni pritisak obično razlikuje između žena i muškaraca. Iako bismo jednostavno mogli napraviti dva boksa poredjane jedan pored drugog da bismo ilustrovali ovu razliku, bilo bi pomalo čudno zanemariti uzrast nakon što već utvrdimo da je snažno povezan sa krvnim pritiskom. Stoga ćemo podatke stratifikovati dvostruko, prema polu i uzrastu."
   ]
  },
  {
   "cell_type": "code",
   "execution_count": 37,
   "id": "754db374",
   "metadata": {},
   "outputs": [
    {
     "data": {
      "text/plain": [
       "<AxesSubplot:xlabel='agegrp', ylabel='BPXSY1'>"
      ]
     },
     "execution_count": 37,
     "metadata": {},
     "output_type": "execute_result"
    },
    {
     "data": {
      "image/png": "[encoded data removed]",
      "text/plain": [
       "<Figure size 864x360 with 1 Axes>"
      ]
     },
     "metadata": {
      "needs_background": "light"
     },
     "output_type": "display_data"
    }
   ],
   "source": [
    "df[\"agegrp\"] = pd.cut(df.RIDAGEYR, [18, 30, 40, 50, 60, 70, 80])\n",
    "plt.figure(figsize=(12, 5))\n",
    "sns.boxplot(x=\"agegrp\", y=\"BPXSY1\", hue=\"RIAGENDRx\", data=df)"
   ]
  },
  {
   "cell_type": "markdown",
   "id": "04c9dc8c",
   "metadata": {},
   "source": [
    "Kada se vrši stratifikacija po dva faktora (u ovom slučaju uzrast i pol), možemo prvo grupisati boksove prema uzrastu, a zatim unutar svake starosne grupe prema polu, kao što je gore opisano, ili možemo uraditi obrnuto - prvo grupisati prema polu, a zatim unutar svake grupe prema starosnim grupama. Svaki pristup ističe različit aspekt podataka."
   ]
  },
  {
   "cell_type": "code",
   "execution_count": 44,
   "id": "6fa09cc5",
   "metadata": {},
   "outputs": [
    {
     "data": {
      "image/png": "[encoded data removed]",
      "text/plain": [
       "<Figure size 864x360 with 1 Axes>"
      ]
     },
     "metadata": {
      "needs_background": "light"
     },
     "output_type": "display_data"
    }
   ],
   "source": [
    "df[\"agegrp\"] = pd.cut(df.RIDAGEYR, [18, 30, 40, 50, 60, 70, 80])\n",
    "plt.figure(figsize=(12, 5))\n",
    "sns.boxplot(x=\"RIAGENDRx\", y=\"BPXSY1\", hue=\"agegrp\", data=df)\n"
   ]
  },
  {
   "cell_type": "markdown",
   "id": "65d5d571",
   "metadata": {},
   "source": [
    "Stratifikacija može biti korisna i prilikom radu sa kategoričkim varijablama. U nastavku posmatramo distribuciju obrazovnog postignuća (\"DMDEDUC2\") unutar starosnih grupa od 10 godina. Iako je \"neki koledž\" najčešći odgovor u svim starosnim grupama, do oko 60. godine drugi najčešći odgovor je \"koledž\" (tj. osoba je završila koledž sa diplomom od četiri godine). Međutim, kod ljudi starijih od 50 godina, ima podjednako ili više ljudi sa samo srednjom školom ili diplomom o opštem ekvivalentu (HS/GED) nego što ima diplomiranih sa koledža.\n",
    "\n",
    "Napomena o uzročnosti : Ovde smo videli razlike i u krvnom pritisku i u obrazovnom postignuću na osnovu uzrasta. Moguće je da starenje direktno uzrokuje povećanje krvnog pritiska. Ali u slučaju obrazovnog postignuća, to je zapravo \"efekat kohorte rođenja\". NHANES je presečno istraživanje (svi podaci za jedan talas prikupljeni su u jednom trenutku). Ljudi koji su, recimo, imali 65 godina 2015. godine (kada su prikupljeni ovi podaci), bili su u godinama koledža oko 1970. godine, dok su ljudi koji su bili u dvadesetim godinama 2015. godine bili u godinama koledža oko 2010. ili kasnije. Tokom poslednjih nekoliko decenija, postalo je mnogo uobičajenije da ljudi bar započnu koledž nego što je to bilo ranije. Stoga, mlađi ljudi kao grupa imaju više obrazovnih postignuća od starijih ljudi kao grupe. Kako ovi mladi ljudi stare, presečni odnos između uzrasta i obrazovnog postignuća će se promeniti."
   ]
  },
  {
   "cell_type": "code",
   "execution_count": 39,
   "id": "af016835",
   "metadata": {},
   "outputs": [
    {
     "data": {
      "text/plain": [
       "agegrp    DMDEDUC2x      \n",
       "(18, 30]  Some college/AA    364\n",
       "          College            278\n",
       "          HS/GED             237\n",
       "          Missing            128\n",
       "          9-11                99\n",
       "          <9                  47\n",
       "(30, 40]  Some college/AA    282\n",
       "          College            264\n",
       "          HS/GED             182\n",
       "          9-11               111\n",
       "          <9                  93\n",
       "(40, 50]  Some college/AA    262\n",
       "          College            260\n",
       "          HS/GED             171\n",
       "          9-11               112\n",
       "          <9                  98\n",
       "(50, 60]  Some college/AA    258\n",
       "          College            220\n",
       "          HS/GED             220\n",
       "          9-11               122\n",
       "          <9                 104\n",
       "(60, 70]  Some college/AA    238\n",
       "          HS/GED             192\n",
       "          College            188\n",
       "          <9                 149\n",
       "          9-11               111\n",
       "(70, 80]  Some college/AA    217\n",
       "          HS/GED             184\n",
       "          <9                 164\n",
       "          College            156\n",
       "          9-11                88\n",
       "          Don't know           3\n",
       "Name: DMDEDUC2x, dtype: int64"
      ]
     },
     "execution_count": 39,
     "metadata": {},
     "output_type": "execute_result"
    }
   ],
   "source": [
    "df.groupby(\"agegrp\")[\"DMDEDUC2x\"].value_counts()"
   ]
  },
  {
   "cell_type": "markdown",
   "id": "6ebb09d0",
   "metadata": {},
   "source": [
    "Možemo takođe vršiti zajedničku stratifikaciju prema uzrastu i polu kako bismo istražili kako se obrazovno postignuće menja istovremeno prema oba ova faktora. Prilikom ovoga, rezultate je lakše interpretirati ako preokrenemo nivoe obrazovanja u kolone i normalizujemo brojanja tako da se sabiraju do 1. Nakon ovoga, rezultati se mogu interpretirati kao proporcije ili verovatnoće. Jedno zanimljivo zapažanje iz ove tabele jeste, da su žene do oko 60. godine starosti verovatnije da završe koledž u mnogo većem broju od muškaraca, ali kod ljudi starijih od 60 godina, ova veza se menja."
   ]
  },
  {
   "cell_type": "code",
   "execution_count": 43,
   "id": "f6119954",
   "metadata": {},
   "outputs": [
    {
     "name": "stdout",
     "output_type": "stream",
     "text": [
      "DMDEDUC2x           9-11    <9  College  HS/GED  Some college/AA\n",
      "agegrp   RIAGENDRx                                              \n",
      "(18, 30] Female    0.080 0.049    0.282   0.215            0.374\n",
      "         Male      0.117 0.042    0.258   0.250            0.333\n",
      "(30, 40] Female    0.089 0.097    0.314   0.165            0.335\n",
      "         Male      0.151 0.103    0.251   0.227            0.269\n",
      "(40, 50] Female    0.110 0.106    0.299   0.173            0.313\n",
      "         Male      0.142 0.112    0.274   0.209            0.262\n",
      "(50, 60] Female    0.117 0.102    0.245   0.234            0.302\n",
      "         Male      0.148 0.123    0.231   0.242            0.256\n",
      "(60, 70] Female    0.118 0.188    0.195   0.206            0.293\n",
      "         Male      0.135 0.151    0.233   0.231            0.249\n",
      "(70, 80] Female    0.105 0.225    0.149   0.240            0.281\n",
      "         Male      0.113 0.180    0.237   0.215            0.255\n"
     ]
    }
   ],
   "source": [
    "dx = df.loc[~df.DMDEDUC2x.isin([\"Don't know\", \"Missing\"]), :]  # Eliminišemo nepotrebne vrednosti\n",
    "dx = dx.groupby([\"agegrp\", \"RIAGENDRx\"])[\"DMDEDUC2x\"]\n",
    "dx = dx.value_counts()\n",
    "dx = dx.unstack() # Restrukiranje rezultata od \"long\" ka \"wide\"\n",
    "dx = dx.apply(lambda x: x/x.sum(), axis=1) # Normalizacija unutar svakog stratuma kako bismo dobili proporcije\n",
    "print(dx.to_string(float_format=\"%.3f\"))"
   ]
  },
  {
   "cell_type": "markdown",
   "id": "f09d97aa",
   "metadata": {},
   "source": [
    "## Grafici iz jupitera i LaTeX"
   ]
  },
  {
   "cell_type": "markdown",
   "id": "8c503547",
   "metadata": {},
   "source": [
    "Nakon \"import matplotlib\" uneti sledeće instrukcije:"
   ]
  },
  {
   "cell_type": "code",
   "execution_count": 48,
   "id": "0c8ebd22",
   "metadata": {},
   "outputs": [],
   "source": [
    "import matplotlib\n",
    "matplotlib.use(\"pgf\")\n",
    "matplotlib.rcParams.update({\n",
    "    \"pgf.texsystem\": \"pdflatex\",\n",
    "    'font.family': 'serif',\n",
    "    'text.usetex': True,\n",
    "    'pgf.rcfonts': False,\n",
    "})"
   ]
  },
  {
   "cell_type": "code",
   "execution_count": 49,
   "id": "99875a36",
   "metadata": {},
   "outputs": [
    {
     "data": {
      "image/png": "[encoded data removed]",
      "text/plain": [
       "<Figure size 864x360 with 1 Axes>"
      ]
     },
     "metadata": {
      "needs_background": "light"
     },
     "output_type": "display_data"
    }
   ],
   "source": [
    "df[\"agegrp\"] = pd.cut(df.RIDAGEYR, [18, 30, 40, 50, 60, 70, 80])\n",
    "plt.figure(figsize=(12, 5))\n",
    "sns.boxplot(x=\"RIAGENDRx\", y=\"BPXSY1\", hue=\"agegrp\", data=df)\n",
    "plt.savefig('test.pgf')"
   ]
  },
  {
   "cell_type": "code",
   "execution_count": null,
   "id": "6e59c41a",
   "metadata": {},
   "outputs": [],
   "source": []
  }
 ],
 "metadata": {
  "kernelspec": {
   "display_name": "Python 3 (ipykernel)",
   "language": "python",
   "name": "python3"
  },
  "language_info": {
   "codemirror_mode": {
    "name": "ipython",
    "version": 3
   },
   "file_extension": ".py",
   "mimetype": "text/x-python",
   "name": "python",
   "nbconvert_exporter": "python",
   "pygments_lexer": "ipython3",
   "version": "3.9.12"
  }
 },
 "nbformat": 4,
 "nbformat_minor": 5
}
